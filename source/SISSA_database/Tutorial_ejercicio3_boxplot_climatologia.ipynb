{
 "cells": [
  {
   "cell_type": "markdown",
   "id": "6f3fb5aa-3c1b-4bb7-96c4-7067593880fe",
   "metadata": {},
   "source": [
    "# Ejercicio 3 capacitación: climatologia de pronósticos GEFSv12 y ERA5\n",
    "\n",
    "En esta sección vamos a considerar un área de trabajo, que corresponde a SESA (Sudeste de Sudámerica) y a partir de un rango de días de pronóstico y un plazo de 10 años, vamos a ver como se comporta esa climatología con los valores obtenidos para un año en particular.\n",
    "\n",
    "Al igual que venimos haciendo en otros ejercicios, vamos a intentar trabajar sin descargar los datos y guardando en una variables que nos permita posteriormente procesar y graficar la figura que necesitamos.\n",
    "\n",
    "Vamos a comenzar primero detallando algunas variables para "
   ]
  },
  {
   "cell_type": "code",
   "execution_count": 2,
   "id": "d0690e56-bbe5-4d17-a5ec-a8bf15123ecf",
   "metadata": {},
   "outputs": [
    {
     "name": "stdout",
     "output_type": "stream",
     "text": [
      "Carpeta con datos ERA5: sissa-forecast-database/subseasonal/ERA5/tmax/\n",
      "Carpeta con datos GEFSv12 sin corregir: sissa-forecast-database/subseasonal/GEFSv12/tmax/\n",
      "Carpeta con datos GEFSv12 corregidos: sissa-forecast-database/subseasonal/GEFSv12/tmax/\n"
     ]
    }
   ],
   "source": [
    "# Como siempre, partimos importando los modulos a utilizar:\n",
    "%matplotlib inline\n",
    "import xarray as xr\n",
    "import s3fs\n",
    "import netCDF4\n",
    "import numpy as np\n",
    "import pandas as pd\n",
    "\n",
    "import matplotlib.pyplot as plt\n",
    "\n",
    "# DATOS\n",
    "BUCKET_NAME = 'sissa-forecast-database'\n",
    "tforecast = 'subseasonal'\n",
    "m0 = 'ERA5'\n",
    "m1 = 'GEFSv12'\n",
    "m2 = 'GEFSv12_corr'\n",
    "variable = 'tmax'\n",
    "years = np.arange(2010, 2020)\n",
    "\n",
    "path0 = tforecast + '/' + m0 + '/' + variable + '/' \n",
    "path1 = tforecast + '/' + m1 + '/' + variable + '/' \n",
    "path2 = tforecast + '/' + m2 + '/' + variable + '/' \n",
    "\n",
    "# Colocamos un área para SESA\n",
    "lat_0 = -39.\n",
    "lat_1 = -16.\n",
    "lon_0 = -64.\n",
    "lon_1 = -31.\n",
    "\n",
    "# Umbrales a considerar para calcular probabilidad:\n",
    "umbrales = [1., 30., 50., 100.]\n",
    "\n",
    "print('Carpeta con datos ERA5:', BUCKET_NAME + '/' + path0)\n",
    "print('Carpeta con datos GEFSv12 sin corregir:', BUCKET_NAME + '/' + path1)\n",
    "print('Carpeta con datos GEFSv12 corregidos:', BUCKET_NAME + '/' + path1)"
   ]
  },
  {
   "cell_type": "code",
   "execution_count": null,
   "id": "441e045d-6d31-4516-969b-4f3db07bc139",
   "metadata": {},
   "outputs": [],
   "source": []
  }
 ],
 "metadata": {
  "kernelspec": {
   "display_name": "Python 3 (ipykernel)",
   "language": "python",
   "name": "python3"
  },
  "language_info": {
   "codemirror_mode": {
    "name": "ipython",
    "version": 3
   },
   "file_extension": ".py",
   "mimetype": "text/x-python",
   "name": "python",
   "nbconvert_exporter": "python",
   "pygments_lexer": "ipython3",
   "version": "3.11.6"
  }
 },
 "nbformat": 4,
 "nbformat_minor": 5
}
