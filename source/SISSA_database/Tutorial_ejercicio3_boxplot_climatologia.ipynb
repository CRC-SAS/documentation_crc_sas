{
 "cells": [
  {
   "cell_type": "markdown",
   "id": "6f3fb5aa-3c1b-4bb7-96c4-7067593880fe",
   "metadata": {},
   "source": [
    "# Ejercicio 4\n",
    "## Analizamos cómo el modelo representa aspectos de la distribución de una variable (Climatologia)\n",
    "\n",
    "En esta sección vamos a considerar un área de trabajo, que corresponde a SESA (Sudeste de Sudámerica) y a partir de un rango de días de pronóstico y un plazo de 10 años, vamos a ver como se comporta esa climatología con los valores obtenidos para un año en particular.\n",
    "\n",
    "Al igual que venimos haciendo en otros ejercicios, vamos a intentar trabajar sin descargar los datos y guardando en una variables que nos permita posteriormente procesar y graficar la figura que necesitamos.\n",
    "\n",
    "Vamos a comenzar primero detallando algunas variables para "
   ]
  },
  {
   "cell_type": "code",
   "execution_count": 14,
   "id": "d0690e56-bbe5-4d17-a5ec-a8bf15123ecf",
   "metadata": {},
   "outputs": [
    {
     "name": "stdout",
     "output_type": "stream",
     "text": [
      "Carpeta con datos ERA5: sissa-forecast-database/ERA5/tmax/\n",
      "Carpeta con datos GEFSv12 sin corregir: sissa-forecast-database/subseasonal/GEFSv12/tmax/\n",
      "Carpeta con datos GEFSv12 corregidos: sissa-forecast-database/subseasonal/GEFSv12_corr/tmax/\n"
     ]
    }
   ],
   "source": [
    "# Como siempre, partimos importando los modulos a utilizar:\n",
    "%matplotlib inline\n",
    "import xarray as xr\n",
    "import s3fs\n",
    "import netCDF4\n",
    "import numpy as np\n",
    "import pandas as pd\n",
    "import os\n",
    "import datetime as dt\n",
    "import matplotlib.pyplot as plt\n",
    "import glob\n",
    "\n",
    "# DATOS\n",
    "BUCKET_NAME = 'sissa-forecast-database'\n",
    "tforecast = 'subseasonal'\n",
    "m0 = 'ERA5'\n",
    "m1 = 'GEFSv12'\n",
    "m2 = 'GEFSv12_corr'\n",
    "variable = 'tmax'\n",
    "years = np.arange(2010, 2020)\n",
    "\n",
    "path0 = m0 + '/' + variable + '/' \n",
    "path1 = tforecast + '/' + m1 + '/' + variable + '/' \n",
    "path2 = tforecast + '/' + m2 + '/' + variable + '/' \n",
    "\n",
    "# Colocamos un área para SESA\n",
    "lat_n = -20.\n",
    "lat_s = -30.\n",
    "lon_w = -65.\n",
    "lon_e = -55.\n",
    "\n",
    "#Fecha de referencia:\n",
    "ref_date = dt.datetime(2010,12,1)\n",
    "\n",
    "\n",
    "print('Carpeta con datos ERA5:', BUCKET_NAME + '/' + path0)\n",
    "print('Carpeta con datos GEFSv12 sin corregir:', BUCKET_NAME + '/' + path1)\n",
    "print('Carpeta con datos GEFSv12 corregidos:', BUCKET_NAME + '/' + path2)"
   ]
  },
  {
   "cell_type": "markdown",
   "id": "13f12d92-70a6-433c-b828-d8deca212a38",
   "metadata": {},
   "source": [
    "**Descarga de datos subset**\n",
    "\n",
    "Los siguientes bloques corresponderan a las lineas de codigo para descargar los datos necesarios para revisar la climatologia del mes de diciembre\n",
    "y vamos a analizar como se ven las dos primeras semanas de pronostico.\n",
    "\n",
    "Creamos una carpeta temporal dentro de nuestra carpeta de trabajo.\n",
    "\n",
    "Partimos descargando **ERA5**\n",
    "\n",
    "Seguimos con **GEFSv12**\n",
    "\n",
    "y terminamos con **GEFSv12_corr**"
   ]
  },
  {
   "cell_type": "code",
   "execution_count": 15,
   "id": "9f51f876-4c3e-4b15-a2fc-88a22ffedd7a",
   "metadata": {},
   "outputs": [
    {
     "name": "stdout",
     "output_type": "stream",
     "text": [
      "s3://sissa-forecast-database/ERA5/tmax/2010.nc\n",
      "s3://sissa-forecast-database/ERA5/tmax/2011.nc\n",
      "s3://sissa-forecast-database/ERA5/tmax/2012.nc\n",
      "s3://sissa-forecast-database/ERA5/tmax/2013.nc\n",
      "s3://sissa-forecast-database/ERA5/tmax/2014.nc\n",
      "s3://sissa-forecast-database/ERA5/tmax/2015.nc\n",
      "s3://sissa-forecast-database/ERA5/tmax/2016.nc\n",
      "s3://sissa-forecast-database/ERA5/tmax/2017.nc\n",
      "s3://sissa-forecast-database/ERA5/tmax/2018.nc\n",
      "s3://sissa-forecast-database/ERA5/tmax/2019.nc\n"
     ]
    }
   ],
   "source": [
    "tmp = './tmp/'\n",
    "os.makedirs(tmp, exist_ok=True)\n",
    "\n",
    "for year in years:\n",
    "    fs = s3fs.S3FileSystem(anon=True)\n",
    "    awsfile = 's3://' + BUCKET_NAME + '/' + path0 + str(year) + '.nc'\n",
    "    print(awsfile)\n",
    "    with fs.open(awsfile) as f:\n",
    "        ncfile = tmp + 'era5_' + variable + '_' + str(year) + '.nc'\n",
    "        if not os.path.isfile(ncfile):\n",
    "            print('Descargando:', ncfile)\n",
    "            era = xr.open_dataset(f)\n",
    "            era = era.sel(latitude=slice(lat_n, lat_s), longitude=slice(lon_w, lon_e))\n",
    "            era.to_netcdf(ncfile)\n",
    "    "
   ]
  },
  {
   "cell_type": "code",
   "execution_count": 16,
   "id": "ad9e407b-4df3-45d2-a551-fa772fece95b",
   "metadata": {},
   "outputs": [
    {
     "name": "stdout",
     "output_type": "stream",
     "text": [
      "sissa-forecast-database/subseasonal/GEFSv12/tmax/2010/20101201/\n",
      "sissa-forecast-database/subseasonal/GEFSv12/tmax/2010/20101208/\n",
      "sissa-forecast-database/subseasonal/GEFSv12/tmax/2010/20101215/\n",
      "sissa-forecast-database/subseasonal/GEFSv12/tmax/2010/20101222/\n",
      "sissa-forecast-database/subseasonal/GEFSv12/tmax/2010/20101229/\n",
      "sissa-forecast-database/subseasonal/GEFSv12/tmax/2011/20111207/\n",
      "sissa-forecast-database/subseasonal/GEFSv12/tmax/2011/20111214/\n",
      "sissa-forecast-database/subseasonal/GEFSv12/tmax/2011/20111221/\n",
      "sissa-forecast-database/subseasonal/GEFSv12/tmax/2011/20111228/\n",
      "sissa-forecast-database/subseasonal/GEFSv12/tmax/2012/20121205/\n",
      "sissa-forecast-database/subseasonal/GEFSv12/tmax/2012/20121212/\n",
      "sissa-forecast-database/subseasonal/GEFSv12/tmax/2012/20121219/\n",
      "sissa-forecast-database/subseasonal/GEFSv12/tmax/2012/20121226/\n",
      "sissa-forecast-database/subseasonal/GEFSv12/tmax/2013/20131204/\n",
      "sissa-forecast-database/subseasonal/GEFSv12/tmax/2013/20131211/\n",
      "sissa-forecast-database/subseasonal/GEFSv12/tmax/2013/20131218/\n",
      "sissa-forecast-database/subseasonal/GEFSv12/tmax/2013/20131225/\n",
      "sissa-forecast-database/subseasonal/GEFSv12/tmax/2014/20141203/\n",
      "sissa-forecast-database/subseasonal/GEFSv12/tmax/2014/20141210/\n",
      "sissa-forecast-database/subseasonal/GEFSv12/tmax/2014/20141217/\n",
      "sissa-forecast-database/subseasonal/GEFSv12/tmax/2014/20141224/\n",
      "sissa-forecast-database/subseasonal/GEFSv12/tmax/2015/20151202/\n",
      "sissa-forecast-database/subseasonal/GEFSv12/tmax/2015/20151209/\n",
      "sissa-forecast-database/subseasonal/GEFSv12/tmax/2015/20151216/\n",
      "sissa-forecast-database/subseasonal/GEFSv12/tmax/2015/20151223/\n",
      "sissa-forecast-database/subseasonal/GEFSv12/tmax/2015/20151230/\n",
      "sissa-forecast-database/subseasonal/GEFSv12/tmax/2016/20161207/\n",
      "sissa-forecast-database/subseasonal/GEFSv12/tmax/2016/20161214/\n",
      "sissa-forecast-database/subseasonal/GEFSv12/tmax/2016/20161221/\n",
      "sissa-forecast-database/subseasonal/GEFSv12/tmax/2016/20161228/\n",
      "sissa-forecast-database/subseasonal/GEFSv12/tmax/2017/20171206/\n",
      "sissa-forecast-database/subseasonal/GEFSv12/tmax/2017/20171213/\n",
      "sissa-forecast-database/subseasonal/GEFSv12/tmax/2017/20171220/\n",
      "sissa-forecast-database/subseasonal/GEFSv12/tmax/2017/20171227/\n",
      "sissa-forecast-database/subseasonal/GEFSv12/tmax/2018/20181205/\n",
      "sissa-forecast-database/subseasonal/GEFSv12/tmax/2018/20181212/\n",
      "sissa-forecast-database/subseasonal/GEFSv12/tmax/2018/20181219/\n",
      "sissa-forecast-database/subseasonal/GEFSv12/tmax/2018/20181226/\n",
      "sissa-forecast-database/subseasonal/GEFSv12/tmax/2019/20191204/\n",
      "sissa-forecast-database/subseasonal/GEFSv12/tmax/2019/20191211/\n",
      "sissa-forecast-database/subseasonal/GEFSv12/tmax/2019/20191218/\n",
      "sissa-forecast-database/subseasonal/GEFSv12/tmax/2019/20191225/\n"
     ]
    }
   ],
   "source": [
    "for year in years:\n",
    "    fs = s3fs.S3FileSystem(anon=True)\n",
    "    loop_date = ref_date.replace(year=year)\n",
    "    while loop_date < (ref_date.replace(year=year) + dt.timedelta(days=30)):\n",
    "        if loop_date.weekday() == 2:\n",
    "            PATH = BUCKET_NAME + '/' + path1 + str(year) + '/' + loop_date.strftime('%Y%m%d') + '/'\n",
    "            print(PATH)\n",
    "            awsfiles = fs.ls('s3://' + PATH) \n",
    "            for ens, awsfile in enumerate(awsfiles):\n",
    "                if not os.path.isfile('./tmp/uncal_' + variable + '_' + loop_date.strftime('%Y%m%d') + '_' + str(ens) + '.nc'):\n",
    "                    with fs.open(awsfile) as f:\n",
    "                        gefs = xr.open_dataset(f)\n",
    "                        gefs = gefs.sel(lat=slice(lat_n, lat_s), lon=slice(lon_w, lon_e))\n",
    "                        gefs['M'] = ens\n",
    "                        ds = gefs[variable]\n",
    "                        ds.to_netcdf('./tmp/uncal_' + variable + '_' + loop_date.strftime('%Y%m%d') + '_' + str(ens) + '.nc')\n",
    "        loop_date += dt.timedelta(days=1)"
   ]
  },
  {
   "cell_type": "code",
   "execution_count": 17,
   "id": "4d9f119b-0ca5-4611-9eee-f4a808e0f868",
   "metadata": {},
   "outputs": [
    {
     "name": "stdout",
     "output_type": "stream",
     "text": [
      "sissa-forecast-database/subseasonal/GEFSv12_corr/tmax/2010/20101201/\n",
      "sissa-forecast-database/subseasonal/GEFSv12_corr/tmax/2010/20101208/\n",
      "sissa-forecast-database/subseasonal/GEFSv12_corr/tmax/2010/20101215/\n",
      "sissa-forecast-database/subseasonal/GEFSv12_corr/tmax/2010/20101222/\n",
      "sissa-forecast-database/subseasonal/GEFSv12_corr/tmax/2010/20101229/\n",
      "sissa-forecast-database/subseasonal/GEFSv12_corr/tmax/2011/20111207/\n",
      "sissa-forecast-database/subseasonal/GEFSv12_corr/tmax/2011/20111214/\n",
      "sissa-forecast-database/subseasonal/GEFSv12_corr/tmax/2011/20111221/\n",
      "sissa-forecast-database/subseasonal/GEFSv12_corr/tmax/2011/20111228/\n",
      "sissa-forecast-database/subseasonal/GEFSv12_corr/tmax/2012/20121205/\n",
      "sissa-forecast-database/subseasonal/GEFSv12_corr/tmax/2012/20121212/\n",
      "sissa-forecast-database/subseasonal/GEFSv12_corr/tmax/2012/20121219/\n",
      "sissa-forecast-database/subseasonal/GEFSv12_corr/tmax/2012/20121226/\n",
      "sissa-forecast-database/subseasonal/GEFSv12_corr/tmax/2013/20131204/\n",
      "sissa-forecast-database/subseasonal/GEFSv12_corr/tmax/2013/20131211/\n",
      "sissa-forecast-database/subseasonal/GEFSv12_corr/tmax/2013/20131218/\n",
      "sissa-forecast-database/subseasonal/GEFSv12_corr/tmax/2013/20131225/\n",
      "sissa-forecast-database/subseasonal/GEFSv12_corr/tmax/2014/20141203/\n",
      "sissa-forecast-database/subseasonal/GEFSv12_corr/tmax/2014/20141210/\n",
      "sissa-forecast-database/subseasonal/GEFSv12_corr/tmax/2014/20141217/\n",
      "sissa-forecast-database/subseasonal/GEFSv12_corr/tmax/2014/20141224/\n",
      "sissa-forecast-database/subseasonal/GEFSv12_corr/tmax/2015/20151202/\n",
      "sissa-forecast-database/subseasonal/GEFSv12_corr/tmax/2015/20151209/\n",
      "sissa-forecast-database/subseasonal/GEFSv12_corr/tmax/2015/20151216/\n",
      "sissa-forecast-database/subseasonal/GEFSv12_corr/tmax/2015/20151223/\n",
      "sissa-forecast-database/subseasonal/GEFSv12_corr/tmax/2015/20151230/\n",
      "sissa-forecast-database/subseasonal/GEFSv12_corr/tmax/2016/20161207/\n",
      "sissa-forecast-database/subseasonal/GEFSv12_corr/tmax/2016/20161214/\n",
      "sissa-forecast-database/subseasonal/GEFSv12_corr/tmax/2016/20161221/\n",
      "sissa-forecast-database/subseasonal/GEFSv12_corr/tmax/2016/20161228/\n",
      "sissa-forecast-database/subseasonal/GEFSv12_corr/tmax/2017/20171206/\n",
      "sissa-forecast-database/subseasonal/GEFSv12_corr/tmax/2017/20171213/\n",
      "sissa-forecast-database/subseasonal/GEFSv12_corr/tmax/2017/20171220/\n",
      "sissa-forecast-database/subseasonal/GEFSv12_corr/tmax/2017/20171227/\n",
      "sissa-forecast-database/subseasonal/GEFSv12_corr/tmax/2018/20181205/\n",
      "sissa-forecast-database/subseasonal/GEFSv12_corr/tmax/2018/20181212/\n",
      "sissa-forecast-database/subseasonal/GEFSv12_corr/tmax/2018/20181219/\n",
      "sissa-forecast-database/subseasonal/GEFSv12_corr/tmax/2018/20181226/\n",
      "sissa-forecast-database/subseasonal/GEFSv12_corr/tmax/2019/20191204/\n",
      "sissa-forecast-database/subseasonal/GEFSv12_corr/tmax/2019/20191211/\n",
      "sissa-forecast-database/subseasonal/GEFSv12_corr/tmax/2019/20191218/\n",
      "sissa-forecast-database/subseasonal/GEFSv12_corr/tmax/2019/20191225/\n"
     ]
    }
   ],
   "source": [
    "for year in years:\n",
    "    fs = s3fs.S3FileSystem(anon=True)\n",
    "    loop_date = ref_date.replace(year=year)\n",
    "    while loop_date < (ref_date.replace(year=year) + dt.timedelta(days=30)):\n",
    "        if loop_date.weekday() == 2:\n",
    "            PATH = BUCKET_NAME + '/' + path2 + str(year) + '/' + loop_date.strftime('%Y%m%d') + '/'\n",
    "            print(PATH)\n",
    "            awsfiles = fs.ls('s3://' + PATH) \n",
    "            for ens, awsfile in enumerate(awsfiles):\n",
    "                if not os.path.isfile('./tmp/cal_' + variable + '_' + loop_date.strftime('%Y%m%d') + '_' + str(ens) + '.nc'):\n",
    "                    with fs.open(awsfile) as f:\n",
    "                        gefs = xr.open_dataset(f)\n",
    "                        gefs = gefs.sel(lat=slice(lat_n, lat_s), lon=slice(lon_w, lon_e))\n",
    "                        gefs['M'] = ens\n",
    "                        ds = gefs[variable]\n",
    "                        ds.to_netcdf('./tmp/cal_' + variable + '_' + loop_date.strftime('%Y%m%d') + '_' + str(ens) + '.nc')\n",
    "        loop_date += dt.timedelta(days=1)"
   ]
  },
  {
   "cell_type": "markdown",
   "id": "296014cb-18e7-4c3a-9870-31a5b1e90e7c",
   "metadata": {},
   "source": [
    "**Funciones extra**\n",
    "\n",
    "Usamos las mismas funciones creadas para trabajar con los archivos descargados, que permiten ayudar a concatenar los datos"
   ]
  },
  {
   "cell_type": "code",
   "execution_count": 18,
   "id": "622a1f25-aebb-4f40-a078-52bb59f283fb",
   "metadata": {},
   "outputs": [],
   "source": [
    "# funcion para acomodar xarrays antes de concatenarlos\n",
    "def preprocess_ds(ds):\n",
    "    ds['S'] = ds.time.values[0]\n",
    "    ds['time'] = ds.time.values - ds.time.values[0]\n",
    "    ds = ds.rename({'time': 'leadtime'})\n",
    "    return ds"
   ]
  },
  {
   "cell_type": "markdown",
   "id": "d97feda2-b2d3-49a3-9df7-4e78ac2e9b1c",
   "metadata": {},
   "source": [
    "**Extraccion de datos y generación de figura**\n",
    "\n",
    "En esta parte vamos a ir cargando los tres datos a tres variables distintas y vamos a ver como da la distribución de cada uno de ellos"
   ]
  },
  {
   "cell_type": "code",
   "execution_count": 32,
   "id": "b5298ae0-aba2-41d4-be86-c74f8d5fe363",
   "metadata": {},
   "outputs": [
    {
     "name": "stdout",
     "output_type": "stream",
     "text": [
      "2010\n",
      "2011\n",
      "2012\n",
      "2013\n",
      "2014\n",
      "2015\n",
      "2016\n",
      "2017\n",
      "2018\n",
      "2019\n"
     ]
    }
   ],
   "source": [
    "# abrimos todos los datos ERA5 y los concatenamos en la coordenada tiempo\n",
    "era5_files = glob.glob('./tmp/era5_' + variable + '_20*.nc')\n",
    "ds_era = xr.open_mfdataset('./tmp/era5_' + variable + '_20*.nc', engine='netcdf4', combine='nested', concat_dim='time')\n",
    "ds_era = ds_era.compute()\n",
    "\n",
    "for year in years: #  loops sobre los años\n",
    "    print(year)\n",
    "    loop_date = ref_date.replace(year=year) # Tomo el mes de diciembre\n",
    "    while loop_date < (ref_date.replace(year=year) + dt.timedelta(days=30)): #loops sobre los dias de diciembre\n",
    "        if loop_date.weekday() == 2: # si es miercoles, coincide con la fecha del pronostico\n",
    "            if not os.path.isfile('./tmp/' + variable + '_era5_' + loop_date.strftime('%Y%m%d') + '.nc'):\n",
    "                print('./tmp/' + variable + '_era5_' + loop_date.strftime('%Y%m%d') + '.nc')\n",
    "                era = ds_era.sel(time=slice(loop_date + dt.timedelta(days=8), loop_date + dt.timedelta(days=14))) #elijo la segunda semana\n",
    "                era['S'] = loop_date #defino una fecha de comienzo equivalente a la del pronóstico\n",
    "                era['time'] = era['time'] - era['S'] # defino las fechas de la semana dos como dias a partir de S\n",
    "                era.to_netcdf('./tmp/' + variable + '_era5_' + loop_date.strftime('%Y%m%d') + '.nc') # guardo\n",
    "        loop_date += dt.timedelta(days=1)"
   ]
  },
  {
   "cell_type": "code",
   "execution_count": 33,
   "id": "00157a5a-ff07-43ec-893f-38ce0243de6b",
   "metadata": {},
   "outputs": [
    {
     "name": "stdout",
     "output_type": "stream",
     "text": [
      "<xarray.Dataset>\n",
      "Dimensions:   (leadtime: 7, lat: 41, lon: 41, S: 462)\n",
      "Coordinates:\n",
      "  * leadtime  (leadtime) timedelta64[ns] 8 days 9 days ... 13 days 14 days\n",
      "  * lat       (lat) float64 -20.0 -20.25 -20.5 -20.75 ... -29.5 -29.75 -30.0\n",
      "  * lon       (lon) float64 -65.0 -64.75 -64.5 -64.25 ... -55.5 -55.25 -55.0\n",
      "  * S         (S) datetime64[ns] 2010-12-01 2010-12-01 ... 2019-12-25 2019-12-25\n",
      "Data variables:\n",
      "    tmax      (S, leadtime, lat, lon) float64 dask.array<chunksize=(1, 7, 41, 41), meta=np.ndarray>\n"
     ]
    }
   ],
   "source": [
    "# Lectura de datos NO CALIBRADOS\n",
    "ds_uncal = xr.open_mfdataset('./tmp/uncal_' + variable + '*.nc', engine='netcdf4', combine='nested', concat_dim=['S'], preprocess=preprocess_ds)\n",
    "# selecciono semana 2 (8-14 dias)\n",
    "ds_uncal_w2 = ds_uncal.sel(leadtime=slice(np.timedelta64(8, 'D'), np.timedelta64(14, 'D')))\n",
    "print(ds_uncal_w2)"
   ]
  },
  {
   "cell_type": "code",
   "execution_count": 35,
   "id": "74eaae7e-0668-4f7c-8587-5c492e2f18cb",
   "metadata": {},
   "outputs": [
    {
     "name": "stdout",
     "output_type": "stream",
     "text": [
      "<xarray.Dataset>\n",
      "Dimensions:   (leadtime: 7, lat: 41, lon: 41, S: 462)\n",
      "Coordinates:\n",
      "  * leadtime  (leadtime) timedelta64[ns] 8 days 9 days ... 13 days 14 days\n",
      "  * lat       (lat) float64 -20.0 -20.25 -20.5 -20.75 ... -29.5 -29.75 -30.0\n",
      "  * lon       (lon) float64 -65.0 -64.75 -64.5 -64.25 ... -55.5 -55.25 -55.0\n",
      "  * S         (S) datetime64[ns] 2010-12-01 2010-12-01 ... 2019-12-25 2019-12-25\n",
      "Data variables:\n",
      "    tmax      (S, leadtime, lat, lon) float64 dask.array<chunksize=(1, 7, 41, 41), meta=np.ndarray>\n"
     ]
    }
   ],
   "source": [
    "# Lectura de datos CALIBRADOS\n",
    "ds_cal = xr.open_mfdataset('./tmp/cal_' + variable + '*.nc', engine='netcdf4', combine='nested', concat_dim=['S'], preprocess=preprocess_ds)\n",
    "# selecciono semana 2 (8-14 dias)\n",
    "ds_cal_w2 = ds_cal.sel(leadtime=slice(np.timedelta64(8, 'D'), np.timedelta64(14, 'D')))\n",
    "print(ds_cal_w2)"
   ]
  },
  {
   "cell_type": "code",
   "execution_count": 36,
   "id": "0d3b984e-699e-4045-84dd-4fd0d522fe96",
   "metadata": {},
   "outputs": [
    {
     "name": "stdout",
     "output_type": "stream",
     "text": [
      "<xarray.Dataset>\n",
      "Dimensions:    (time: 7, latitude: 41, longitude: 41, S: 42)\n",
      "Coordinates:\n",
      "  * time       (time) timedelta64[ns] 8 days 9 days 10 days ... 13 days 14 days\n",
      "  * latitude   (latitude) float32 -20.0 -20.25 -20.5 ... -29.5 -29.75 -30.0\n",
      "  * longitude  (longitude) float32 -65.0 -64.75 -64.5 ... -55.5 -55.25 -55.0\n",
      "  * S          (S) datetime64[ns] 2010-12-01 2010-12-08 ... 2019-12-25\n",
      "Data variables:\n",
      "    tmax       (S, time, latitude, longitude) float64 dask.array<chunksize=(1, 1, 41, 41), meta=np.ndarray>\n"
     ]
    }
   ],
   "source": [
    "# Lectura de datos ERA5\n",
    "ds_era = xr.open_mfdataset('./tmp/' + variable + '_era5_' + '*.nc', engine='netcdf4', combine='nested', concat_dim=['S'])\n",
    "print(ds_era)"
   ]
  },
  {
   "cell_type": "code",
   "execution_count": 45,
   "id": "a33839d3-f40a-43ba-94ae-4ad95503f167",
   "metadata": {},
   "outputs": [
    {
     "data": {
      "text/plain": [
       "[Text(1, 0, 'ERA5'), Text(2, 0, 'GEFSv12'), Text(3, 0, 'GEFSv12_corr')]"
      ]
     },
     "execution_count": 45,
     "metadata": {},
     "output_type": "execute_result"
    },
    {
     "data": {
      "image/png": "[encoded data removed]",
      "text/plain": [
       "<Figure size 640x480 with 1 Axes>"
      ]
     },
     "metadata": {},
     "output_type": "display_data"
    }
   ],
   "source": [
    "### Comenzamos a trabajar para hacer la figura\n",
    "\n",
    "aux_uncal = ds_uncal_w2[variable].values.flat\n",
    "aux_cal   = ds_cal_w2[variable].values.flat\n",
    "aux_era   = ds_era[variable].values.flat[~np.isnan(ds_era[variable].values.flat)]\n",
    "qc_t = [[0.1, 0.25, 0.75, 0.9], [0.1, 0.25, 0.75, 0.9], [0.1, 0.25, 0.75, 0.9]]\n",
    "data = [aux_era, aux_uncal, aux_cal]\n",
    "\n",
    "# Comenzamos la figura\n",
    "fig, ax = plt.subplots()\n",
    "parts = ax.violinplot(data, [1, 2, 3], showmeans=False, showmedians=True, quantiles=qc_t)\n",
    "ax.set_title('Boxplot para segunda semana pronóstico en diciembre (2010-2019)')\n",
    "ax.set_xticks([1, 2, 3])\n",
    "ax.set_xticklabels(['ERA5', 'GEFSv12', 'GEFSv12_corr'])\n",
    "#axs.set_title('notch=True,\\nbootstrap=10000', fontsize=fs\n",
    "\n",
    "#for pc in parts['bodies']:\n",
    "#    pc.set_facecolor('#fa5305')\n",
    "#    pc.set_edgecolor('black')\n",
    "#    pc.set_alpha(1)"
   ]
  },
  {
   "cell_type": "code",
   "execution_count": null,
   "id": "0847453d-3c19-4ebe-8a86-94a67bb6e14c",
   "metadata": {},
   "outputs": [],
   "source": []
  }
 ],
 "metadata": {
  "kernelspec": {
   "display_name": "Python 3 (ipykernel)",
   "language": "python",
   "name": "python3"
  },
  "language_info": {
   "codemirror_mode": {
    "name": "ipython",
    "version": 3
   },
   "file_extension": ".py",
   "mimetype": "text/x-python",
   "name": "python",
   "nbconvert_exporter": "python",
   "pygments_lexer": "ipython3",
   "version": "3.11.6"
  }
 },
 "nbformat": 4,
 "nbformat_minor": 5
}
