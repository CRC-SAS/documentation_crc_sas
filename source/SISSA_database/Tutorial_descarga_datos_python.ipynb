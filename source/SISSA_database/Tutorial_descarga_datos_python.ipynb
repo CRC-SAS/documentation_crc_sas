{
"nbformat":4,
"nbformat_minor":0,
"metadata":{
"colab":{"provenance":[]},
"kernelspec":{"name":"python3","display_name":"Python 3"},
"language_info":{"name":"python"}
},
 "cells": [
  {
   "cell_type": "markdown",
   "id": "92e0ba0c-6309-4e99-b704-b657baf992de",
   "metadata": {},
   "source": [
    "# ¿Como descargar datos desde la base usando python?\n",
    "\n",
    "### Existen tres subconjuntos de datos dentro de la base y aca vamos a aprender a descargar cada uno de ellos.\n",
    "### Además en python existen 2 librerias que permiten hacer una conexión para descargar los datos que vamos a revisar acá\n",
    "### La primera es la librería s3fs: https://pypi.org/project/s3fs/\n",
    "### La segunda es la libreria botocore: https://pypi.org/project/botocore/\n",
    "### Comenzamos importando la primera librería:\n"
   ]
  },
  {
   "cell_type": "code",
   "execution_count": null,
   "id": "81a29f9b-ed7c-49ef-ade0-fce06643c00b",
   "metadata": {},
   "outputs": [],
   "source": [
    "import s3fs\n",
    "\n"
   ]
  }
 ],
 "nbformat": 4,
 "nbformat_minor": 5
}
