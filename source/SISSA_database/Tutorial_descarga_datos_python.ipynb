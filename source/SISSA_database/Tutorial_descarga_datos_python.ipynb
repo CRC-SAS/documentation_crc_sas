{
 "cells": [
  {
   "cell_type": "markdown",
   "metadata": {},
   "source": [
    "# ¿Como descargar datos desde la base usando python?\n",
    "\n",
    "Existen tres subconjuntos de datos dentro de la base y aca vamos a aprender a descargar cada uno de ellos.\n",
    "Además en python existen 2 librerias que permiten hacer una conexión para descargar los datos que vamos a revisar acá </br>\n",
    "La primera es la librería s3fs: https://pypi.org/project/s3fs/ </br>\n",
    "La segunda es la libreria botocore: https://pypi.org/project/botocore/ </br>\n",
    "\n",
    "Comenzamos importando la primera librería, cargando los datos para la conexión y comenzamos a escribir el link al archivo, tal como se muestra en este [link](https://fmcarrasco.github.io/documentation_crc_sas/SISSA_database/2Estructura_de_datos/):</br>\n"
   ]
  },
  {
   "cell_type": "code",
   "execution_count": 4,
   "metadata": {},
   "outputs": [
    {
     "name": "stdout",
     "output_type": "stream",
     "text": [
      "s3://sissa-forecast-database/subseasonal/GEFSv12_corr/spmean/2010/20100331/spmean_20100331_p03.nc\n"
     ]
    }
   ],
   "source": [
    "import s3fs\n",
    "\n",
    "# Datos necesarios para la descarga\n",
    "BUCKET_NAME = 'sissa-forecast-database'\n",
    "tforecast = 'subseasonal'\n",
    "modelo = 'GEFSv12_corr'\n",
    "variable = 'spmean'\n",
    "year = '2010'\n",
    "ymd = '20100331'\n",
    "nens = 'p03'\n",
    "narchivo = variable + '_' + ymd + '_' + nens + '.nc'\n",
    "PATH = tforecast + '/' + modelo + '/' + variable + '/' + year + '/' + ymd + '/'\n",
    "# Comenzamos la conexión anonima (No necesita cuenta en AWS)\n",
    "fs = s3fs.S3FileSystem(anon=True)\n",
    "file = 's3://' + BUCKET_NAME + '/' + PATH + narchivo\n",
    "print(file)\n",
    "\n"
   ]
  },
  {
   "cell_type": "code",
   "execution_count": 5,
   "metadata": {},
   "outputs": [],
   "source": [
    "\n",
    "# Intentamos la descarga con try/except en caso algun error\n",
    "try:\n",
    "    fs.download(file, './s3fs_'+ narchivo)\n",
    "except Exception as e:\n",
    "    raise Exception(f\"Failed to read file {file} from S3 due to this error:\\n`{str(e)}`\")\n"
   ]
  },
  {
   "cell_type": "markdown",
   "metadata": {},
   "source": [
    "Ahora comenzamos importando la segunda libreria y generando una conexión anónima para iniciar la descarga:"
   ]
  },
  {
   "cell_type": "code",
   "execution_count": 7,
   "metadata": {},
   "outputs": [
    {
     "ename": "ModuleNotFoundError",
     "evalue": "No module named 'boto3'",
     "output_type": "error",
     "traceback": [
      "\u001b[1;31m---------------------------------------------------------------------------\u001b[0m",
      "\u001b[1;31mModuleNotFoundError\u001b[0m                       Traceback (most recent call last)",
      "Cell \u001b[1;32mIn[7], line 1\u001b[0m\n\u001b[1;32m----> 1\u001b[0m \u001b[38;5;28;01mimport\u001b[39;00m \u001b[38;5;21;01mboto3\u001b[39;00m\n\u001b[0;32m      2\u001b[0m \u001b[38;5;28;01mimport\u001b[39;00m \u001b[38;5;21;01mbotocore\u001b[39;00m\n\u001b[0;32m      3\u001b[0m \u001b[38;5;28;01mfrom\u001b[39;00m \u001b[38;5;21;01mbotocore\u001b[39;00m \u001b[38;5;28;01mimport\u001b[39;00m UNSIGNED\n",
      "\u001b[1;31mModuleNotFoundError\u001b[0m: No module named 'boto3'"
     ]
    }
   ],
   "source": [
    "import boto3\n",
    "import botocore\n",
    "from botocore import UNSIGNED\n",
    "from botocore.client import Config\n",
    "\n",
    "# Con credenciales\n",
    "#s3 = boto3.resource('s3')\n",
    "# Sin credenciales\n",
    "s3 = boto3.resource(\"s3\", config=Config(signature_version=UNSIGNED))\n"
   ]
  },
  {
   "cell_type": "code",
   "execution_count": null,
   "metadata": {},
   "outputs": [],
   "source": []
  }
 ],
 "metadata": {
  "colab": {
   "provenance": []
  },
  "kernelspec": {
   "display_name": "Python 3 (ipykernel)",
   "language": "python",
   "name": "python3"
  },
  "language_info": {
   "codemirror_mode": {
    "name": "ipython",
    "version": 3
   },
   "file_extension": ".py",
   "mimetype": "text/x-python",
   "name": "python",
   "nbconvert_exporter": "python",
   "pygments_lexer": "ipython3",
   "version": "3.11.6"
  }
 },
 "nbformat": 4,
 "nbformat_minor": 4
}
