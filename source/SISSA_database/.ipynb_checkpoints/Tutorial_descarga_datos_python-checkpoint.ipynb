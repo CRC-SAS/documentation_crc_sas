{
 "cells": [
  {
   "cell_type": "markdown",
   "metadata": {},
   "source": [
    "# ¿Como descargar datos desde la base usando python?\n",
    "\n",
    "Existen tres subconjuntos de datos dentro de la base y aca vamos a aprender a descargar cada uno de ellos.\n",
    "Además en python existen 2 librerias que permiten hacer una conexión para descargar los datos que vamos a revisar acá </br>\n",
    "La primera es la librería **s3fs**: https://pypi.org/project/s3fs/ </br>\n",
    "La segunda es la libreria **botocore**: https://pypi.org/project/botocore/ </br>\n",
    "\n",
    "Comenzamos importando la primera librería, cargando los datos para la conexión y comenzamos a escribir el link al archivo, tal como se muestra en este [link](https://fmcarrasco.github.io/documentation_crc_sas/SISSA_database/2Estructura_de_datos/):</br>\n",
    "\n",
    "En el primer caso, vamos a descargar un dato de **ERA5**"
   ]
  },
  {
   "cell_type": "code",
   "execution_count": 9,
   "metadata": {},
   "outputs": [
    {
     "name": "stdout",
     "output_type": "stream",
     "text": [
      "s3://sissa-forecast-database/ERA5/tmax/2010.nc\n"
     ]
    }
   ],
   "source": [
    "import s3fs\n",
    "\n",
    "# Datos necesarios para la descarga\n",
    "BUCKET_NAME = 'sissa-forecast-database'\n",
    "modelo = 'ERA5'\n",
    "variable = 'tmax'\n",
    "year = '2010'\n",
    "narchivo = year + '.nc'\n",
    "PATH0 =  modelo + '/' + variable + '/'\n",
    "# Comenzamos la conexión anonima (No necesita cuenta en AWS)\n",
    "fs = s3fs.S3FileSystem(anon=True)\n",
    "file = 's3://' + BUCKET_NAME + '/' + PATH0 + narchivo\n",
    "print(file)\n",
    "\n"
   ]
  },
  {
   "cell_type": "code",
   "execution_count": 10,
   "metadata": {},
   "outputs": [],
   "source": [
    "\n",
    "# Intentamos la descarga con try/except en caso algun error\n",
    "# En este caso, el archivo se descarga en la carpeta donde se encuentra el script o notebook: './'\n",
    "# Se puede setear también dicha carpeta en el nombre del archivo de descarga\n",
    "try:\n",
    "    fs.download(file, './s3fs_'+ narchivo)\n",
    "except Exception as e:\n",
    "    raise Exception(f\"Failed to read file {file} from S3 due to this error:\\n`{str(e)}`\")\n"
   ]
  },
  {
   "cell_type": "markdown",
   "metadata": {},
   "source": [
    "Usando la misma librería, ahora vamos a descargar un dato de **GEFSv12** corregido, para una fecha en particular.<\\br>\n",
    "\n",
    "Hay que recordar, que los datos de **GEFSv12** historicos solo existen para los días miercoles de cada semana.\n",
    "En este caso, vamos a descargar para el *miercoles 31 de marzo de 2010* y solo vamos a descargar el *miembro 3* del ensamble"
   ]
  },
  {
   "cell_type": "code",
   "execution_count": 13,
   "metadata": {},
   "outputs": [
    {
     "name": "stdout",
     "output_type": "stream",
     "text": [
      "s3://sissa-forecast-database/subseasonal/GEFSv12_corr/rain/2010/20100331/rain_20100331_p03.nc\n"
     ]
    }
   ],
   "source": [
    "# Datos necesarios para la descarga\n",
    "BUCKET_NAME = 'sissa-forecast-database'\n",
    "tforecast = 'subseasonal'\n",
    "modelo = 'GEFSv12_corr'\n",
    "variable = 'tmax'\n",
    "year = '2010'\n",
    "ymd = '20100331'\n",
    "nens = 'p03'\n",
    "narchivo = variable + '_' + ymd + '_' + nens + '.nc'\n",
    "PATH1 = tforecast + '/' + modelo + '/' + variable + '/' + year + '/' + ymd + '/'\n",
    "# Comenzamos la conexión anonima (No necesita cuenta en AWS)\n",
    "fs = s3fs.S3FileSystem(anon=True)\n",
    "file = 's3://' + BUCKET_NAME + '/' + PATH1 + narchivo\n",
    "print(file)"
   ]
  },
  {
   "cell_type": "code",
   "execution_count": 14,
   "metadata": {},
   "outputs": [],
   "source": [
    "# Intentamos la descarga con try/except en caso algun error\n",
    "# En este caso, el archivo se descarga en la carpeta donde se encuentra el script o notebook: './'\n",
    "# Se puede setear también dicha carpeta en el nombre del archivo de descarga\n",
    "try:\n",
    "    fs.download(file, './s3fs_'+ narchivo)\n",
    "except Exception as e:\n",
    "    raise Exception(f\"Failed to read file {file} from S3 due to this error:\\n`{str(e)}`\")\n"
   ]
  },
  {
   "cell_type": "markdown",
   "metadata": {},
   "source": [
    "Ahora, vamos a utilizar la segunda librería con la cual se puede trabajar los datos de la base. En ambos casos, no es necesario tener una cuenta en AWS dado que la base se encuentra bajo un programa de datos abiertos de AWS, pero igual en los comentarios, se deja establecido como sería conectarse en caso de tener credenciales en la nube de Amazon."
   ]
  },
  {
   "cell_type": "code",
   "execution_count": 15,
   "metadata": {},
   "outputs": [],
   "source": [
    "import boto3\n",
    "import botocore\n",
    "from botocore import UNSIGNED\n",
    "from botocore.client import Config\n",
    "\n",
    "# Con credenciales\n",
    "#s3 = boto3.resource('s3')\n",
    "# Sin credenciales\n",
    "s3 = boto3.resource(\"s3\", config=Config(signature_version=UNSIGNED))"
   ]
  },
  {
   "cell_type": "code",
   "execution_count": 17,
   "metadata": {},
   "outputs": [
    {
     "name": "stdout",
     "output_type": "stream",
     "text": [
      "ERA5/tmax/\n",
      "The object does not exist.\n"
     ]
    }
   ],
   "source": [
    "# Descargamos primero el dato ERA5 y seguimos usando las variables definidas más arriba\n",
    "print(PATH0)\n",
    "try:\n",
    "    s3.Bucket(BUCKET_NAME).download_file(PATH0 + narchivo, './boto3_' + narchivo)\n",
    "except botocore.exceptions.ClientError as e:\n",
    "    if e.response['Error']['Code'] == \"404\":\n",
    "        print(\"The object does not exist.\")\n",
    "    else:\n",
    "        raise\n"
   ]
  },
  {
   "cell_type": "code",
   "execution_count": null,
   "metadata": {},
   "outputs": [],
   "source": []
  }
 ],
 "metadata": {
  "colab": {
   "provenance": []
  },
  "kernelspec": {
   "display_name": "Python 3 (ipykernel)",
   "language": "python",
   "name": "python3"
  },
  "language_info": {
   "codemirror_mode": {
    "name": "ipython",
    "version": 3
   },
   "file_extension": ".py",
   "mimetype": "text/x-python",
   "name": "python",
   "nbconvert_exporter": "python",
   "pygments_lexer": "ipython3",
   "version": "3.11.6"
  }
 },
 "nbformat": 4,
 "nbformat_minor": 4
}
