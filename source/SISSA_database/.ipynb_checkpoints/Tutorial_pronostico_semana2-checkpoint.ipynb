{
 "cells": [
  {
   "cell_type": "markdown",
   "id": "78563f4f-66b9-4c29-b6ac-59e73f25561b",
   "metadata": {},
   "source": [
    "# ¿Como generar un pronóstico probabilistico para la semana 2 con python?\n",
    "\n",
    "En este tutorial, la idea es a partir de la latitud y longitud de un lugar:\n",
    "- Encontrar el punto más cercano en el dominio SISSA de los pronósticos\n",
    "- Extraer el dato de precipitación de dicho lugar para todos los miembros del ensamble\n",
    "- Calcular la probabilidad de lluvia a partir de dichos datos para la semana 2 para algunos umbrales caracteristicos\n",
    "\n",
    "Para ello vamos a trabajar con el dato en línea, tal como vimos en el tutorial [acá](https://fmcarrasco.github.io/documentation_crc_sas/SISSA_database/Tutorial_online_lista_archivos/)\n",
    "\n",
    "Además esta vez para mayor facilidad en la extracción del dato, vamos a utilizar la librería [xarray](https://pypi.org/project/xarray/) de python."
   ]
  },
  {
   "cell_type": "code",
   "execution_count": 1,
   "id": "01fbc4dd-08f9-4103-bdd7-8813806d12c7",
   "metadata": {},
   "outputs": [
    {
     "name": "stdout",
     "output_type": "stream",
     "text": [
      "sissa-forecast-database/subseasonal/GEFSv12_corr/rain/2018/20180502/\n"
     ]
    }
   ],
   "source": [
    "# Como siempre, partimos importando los modulos a utilizar:\n",
    "\n",
    "%matplotlib inline\n",
    "import xarray as xr\n",
    "import s3fs\n",
    "import netCDF4\n",
    "import numpy as np\n",
    "import pandas as pd\n",
    "\n",
    "import matplotlib.pyplot as plt\n",
    "\n",
    "# DATOS\n",
    "\n",
    "BUCKET_NAME = 'sissa-forecast-database'\n",
    "tforecast = 'subseasonal'\n",
    "modelo = 'GEFSv12_corr'\n",
    "variable = 'rain'\n",
    "year = '2018'\n",
    "ymd = '20180502'\n",
    "\n",
    "PATH = tforecast + '/' + modelo + '/' + variable + '/' + year + '/' + ymd + '/'\n",
    "\n",
    "print(BUCKET_NAME+'/'+PATH)\n"
   ]
  },
  {
   "cell_type": "markdown",
   "id": "a4a3e5c5-c1c1-4e26-97c2-4e64401ee837",
   "metadata": {},
   "source": [
    "Tal como aparece en los códigos, para esta sección vamos a trabajar con el 02 de mayo de 2018 y la variable lluvia\n",
    "\n",
    "A modo de ejemplo, se colocó una localidad de Mercedes, en la provincia de Corrientes, Argentina.\n",
    "La idea posterior es comparar si las lluvias pronósticadas en la semana 2 ocurrieron y en esta localidad existe una estación del \n",
    "Servicio Meteorológico Nacional de Argentina (SMN)."
   ]
  },
  {
   "cell_type": "code",
   "execution_count": 2,
   "id": "8cf2b95e-ec54-4d0f-8b58-9ec654edc164",
   "metadata": {},
   "outputs": [
    {
     "name": "stdout",
     "output_type": "stream",
     "text": [
      "Cantidad de archivos = 11\n"
     ]
    }
   ],
   "source": [
    "# Colocamos como dato la latitud y longitud de la localidad:\n",
    "# En este caso es Mercedes, Corrientes en Argentina.\n",
    "# En la fecha que vamos a analizar ocurrio en algun momento del pronostico un evento de lluvia importante.\n",
    "lat_e = -29.18\n",
    "lon_e = -58.07\n",
    "\n",
    "# Vamos a hacer como en anterior, para la fecha dada, vamos a LISTAR los archivos y \n",
    "# de a cada uno, vamos a ir extrayendo el dato de pronóstico de cada ensamble\n",
    "\n",
    "fs = s3fs.S3FileSystem(anon=True)\n",
    "# Listamos todos los archivos dentro del bucket + PATH\n",
    "awsfiles = fs.ls('s3://' + BUCKET_NAME + '/' + PATH)\n",
    "nfile = len(awsfiles)\n",
    "print('Cantidad de archivos =', nfile)"
   ]
  },
  {
   "cell_type": "code",
   "execution_count": 3,
   "id": "50d4569f-9526-444d-aec8-6ae68b030b92",
   "metadata": {},
   "outputs": [
    {
     "name": "stdout",
     "output_type": "stream",
     "text": [
      "Extrayendo datos del archivo:\n",
      "sissa-forecast-database/subseasonal/GEFSv12_corr/rain/2018/20180502/rain_20180502_c00.nc\n",
      "Extrayendo datos del archivo:\n",
      "sissa-forecast-database/subseasonal/GEFSv12_corr/rain/2018/20180502/rain_20180502_p01.nc\n",
      "Extrayendo datos del archivo:\n",
      "sissa-forecast-database/subseasonal/GEFSv12_corr/rain/2018/20180502/rain_20180502_p02.nc\n",
      "Extrayendo datos del archivo:\n",
      "sissa-forecast-database/subseasonal/GEFSv12_corr/rain/2018/20180502/rain_20180502_p03.nc\n",
      "Extrayendo datos del archivo:\n",
      "sissa-forecast-database/subseasonal/GEFSv12_corr/rain/2018/20180502/rain_20180502_p04.nc\n",
      "Extrayendo datos del archivo:\n",
      "sissa-forecast-database/subseasonal/GEFSv12_corr/rain/2018/20180502/rain_20180502_p05.nc\n",
      "Extrayendo datos del archivo:\n",
      "sissa-forecast-database/subseasonal/GEFSv12_corr/rain/2018/20180502/rain_20180502_p06.nc\n",
      "Extrayendo datos del archivo:\n",
      "sissa-forecast-database/subseasonal/GEFSv12_corr/rain/2018/20180502/rain_20180502_p07.nc\n",
      "Extrayendo datos del archivo:\n",
      "sissa-forecast-database/subseasonal/GEFSv12_corr/rain/2018/20180502/rain_20180502_p08.nc\n",
      "Extrayendo datos del archivo:\n",
      "sissa-forecast-database/subseasonal/GEFSv12_corr/rain/2018/20180502/rain_20180502_p09.nc\n",
      "Extrayendo datos del archivo:\n",
      "sissa-forecast-database/subseasonal/GEFSv12_corr/rain/2018/20180502/rain_20180502_p10.nc\n",
      "                   0          1          2    3         4          5   \\\n",
      "time                                                                    \n",
      "2018-05-02   0.000000   0.200643   0.000000  0.0  0.000000   0.000000   \n",
      "2018-05-03   0.000000   0.000000   0.000000  0.0  0.000000   0.000000   \n",
      "2018-05-04   0.000000   0.000000   0.000000  0.0  0.000000   0.000000   \n",
      "2018-05-05  19.739082  18.259390  64.029063  0.0  0.285880  37.294971   \n",
      "2018-05-06   6.524818   6.738330   1.463048  0.0  3.595909   5.488764   \n",
      "\n",
      "                   6          7          8    9    10  \n",
      "time                                                   \n",
      "2018-05-02   0.000000   0.000000   0.000000  0.0  0.0  \n",
      "2018-05-03   0.000000   0.000000   0.000000  0.0  0.0  \n",
      "2018-05-04   0.000000   0.692040   0.588695  0.0  0.0  \n",
      "2018-05-05   1.737727  35.851317  69.507297  0.0  0.0  \n",
      "2018-05-06  12.880064   0.194473  72.932611  0.0  0.0  \n"
     ]
    }
   ],
   "source": [
    "# Cargamos el dato a una variable en python\n",
    "\n",
    "list_df = []\n",
    "for i, awsfile in enumerate(awsfiles):\n",
    "    print('Extrayendo datos del archivo:')\n",
    "    print(awsfile)\n",
    "    with fs.open(awsfile) as f:\n",
    "        gefs = xr.open_dataset(f)\n",
    "        # seleccionamos el mas cercano\n",
    "        df0 = gefs.sel(lat=lat_e, lon=lon_e, method='nearest')\n",
    "        # Eliminamos dimensiones con UN valor (squeeze) y transformamos a Pandas DataFrame\n",
    "        df = df0[variable].squeeze().to_pandas()\n",
    "        list_df.append(df)\n",
    "\n",
    "result = pd.concat(list_df, axis=1)\n",
    "print(result.head())       \n",
    "    "
   ]
  },
  {
   "cell_type": "markdown",
   "id": "8fa727c0-b37b-4ba9-a469-58599ed00c50",
   "metadata": {},
   "source": [
    "Antes de seguir con los calculos, vamos a realizar una figura mostrando la pluma de precipitación acumulada a lo largo de los plazos de pronóstico\n",
    "\n",
    "Para ello utilizamos la función cumsum de la libreria pandas [link](https://pandas.pydata.org/pandas-docs/stable/reference/api/pandas.DataFrame.cumsum.html)\n",
    "\n",
    "En la figura vamos a remarcar cuando ocurren los 7 dias, de manera de tener las semanas.\n",
    "\n",
    "Además utilizamos el archivo datos_mercedes.xlsx para trabajar con los datos de la estación del SMN en dicha localidad.\n",
    "\n",
    "\n"
   ]
  },
  {
   "cell_type": "code",
   "execution_count": 12,
   "id": "128443c5-a107-493b-ba66-f80a371daeca",
   "metadata": {},
   "outputs": [
    {
     "name": "stdout",
     "output_type": "stream",
     "text": [
      "            Precipitacion  Tmax  Tmin\n",
      "Fecha                                \n",
      "2018-05-02           40.0  25.4  18.6\n",
      "2018-05-03           46.0  22.5  18.8\n",
      "2018-05-04            1.0  23.8  19.0\n",
      "2018-05-05            7.0  22.8  19.0\n",
      "2018-05-06            NaN  26.4  19.8\n",
      "2018-05-07            NaN  28.0  20.0\n",
      "2018-05-08           34.0  23.5  20.2\n",
      "2018-05-09           91.0  22.4  18.8\n",
      "2018-05-10           53.0  21.9  17.8\n",
      "2018-05-11            NaN  21.0  14.2\n",
      "2018-05-12            NaN  21.0  10.0\n",
      "2018-05-13            NaN  23.4  12.4\n",
      "2018-05-14            NaN  24.8  13.2\n",
      "2018-05-15            NaN  23.8  18.4\n",
      "2018-05-16            NaN  18.8  12.8\n",
      "2018-05-17            NaN  20.2  10.2\n",
      "2018-05-18            4.0  17.2  13.8\n",
      "2018-05-19            NaN  18.6   9.0\n",
      "2018-05-20            NaN  17.6   5.0\n",
      "2018-05-21            NaN  17.5   6.8\n",
      "2018-05-22            NaN  19.0   7.8\n",
      "2018-05-23            NaN  17.8   6.8\n",
      "2018-05-24            NaN  19.6   5.8\n",
      "2018-05-25            NaN  21.5   6.8\n",
      "2018-05-26            NaN  26.0  11.4\n",
      "2018-05-27            NaN  27.8  16.8\n",
      "2018-05-28            NaN  29.0  18.6\n",
      "2018-05-29            NaN  27.8  18.0\n",
      "2018-05-30           40.0  24.4  18.2\n",
      "2018-05-31           16.0  19.8  12.6\n",
      "2018-06-01            NaN  14.0  10.4\n",
      "2018-06-02            NaN  13.4   5.8\n",
      "2018-06-03            NaN  14.8   2.4\n",
      "2018-06-04            NaN  16.5   5.0\n",
      "            Precipitacion   Tmax   Tmin\n",
      "Fecha                                  \n",
      "2018-05-02           40.0   25.4   18.6\n",
      "2018-05-03           86.0   47.9   37.4\n",
      "2018-05-04           87.0   71.7   56.4\n",
      "2018-05-05           94.0   94.5   75.4\n",
      "2018-05-06            NaN  120.9   95.2\n",
      "2018-05-07            NaN  148.9  115.2\n",
      "2018-05-08          128.0  172.4  135.4\n",
      "2018-05-09          219.0  194.8  154.2\n",
      "2018-05-10          272.0  216.7  172.0\n",
      "2018-05-11            NaN  237.7  186.2\n",
      "2018-05-12            NaN  258.7  196.2\n",
      "2018-05-13            NaN  282.1  208.6\n",
      "2018-05-14            NaN  306.9  221.8\n",
      "2018-05-15            NaN  330.7  240.2\n",
      "2018-05-16            NaN  349.5  253.0\n",
      "2018-05-17            NaN  369.7  263.2\n",
      "2018-05-18          276.0  386.9  277.0\n",
      "2018-05-19            NaN  405.5  286.0\n",
      "2018-05-20            NaN  423.1  291.0\n",
      "2018-05-21            NaN  440.6  297.8\n",
      "2018-05-22            NaN  459.6  305.6\n",
      "2018-05-23            NaN  477.4  312.4\n",
      "2018-05-24            NaN  497.0  318.2\n",
      "2018-05-25            NaN  518.5  325.0\n",
      "2018-05-26            NaN  544.5  336.4\n",
      "2018-05-27            NaN  572.3  353.2\n",
      "2018-05-28            NaN  601.3  371.8\n",
      "2018-05-29            NaN  629.1  389.8\n",
      "2018-05-30          316.0  653.5  408.0\n",
      "2018-05-31          332.0  673.3  420.6\n",
      "2018-06-01            NaN  687.3  431.0\n",
      "2018-06-02            NaN  700.7  436.8\n",
      "2018-06-03            NaN  715.5  439.2\n",
      "2018-06-04            NaN  732.0  444.2\n"
     ]
    },
    {
     "data": {
      "text/plain": [
       "(-50.0, 2000.0)"
      ]
     },
     "execution_count": 12,
     "metadata": {},
     "output_type": "execute_result"
    },
    {
     "data": {
      "image/png": "[encoded data removed]",
      "text/plain": [
       "<Figure size 640x480 with 1 Axes>"
      ]
     },
     "metadata": {},
     "output_type": "display_data"
    }
   ],
   "source": [
    "obs = pd.read_excel('./datos_mercedes.xlsx', usecols=['Fecha','Precipitacion', 'Tmax', 'Tmin'], engine='openpyxl')\n",
    "obs = obs.set_index('Fecha')\n",
    "print(obs)\n",
    "accobs = obs.cumsum(skipna=False)\n",
    "accpp = result.cumsum()\n",
    "accpp.columns = ['c00', 'p01', 'p02', 'p03', 'p04', 'p05', 'p06', 'p07', 'p08', 'p09', 'p10']\n",
    "print(accobs)\n",
    "\n",
    "fig, ax2 = plt.subplots()\n",
    "\n",
    "accpp.plot(ylabel='mm', ax=ax2, zorder=0)\n",
    "accobs.plot(y='Precipitacion', ax=ax2, color='k', zorder=1, linewidth=2)\n",
    "ax2.set_xticks(accpp.index[0::7])\n",
    "ax2.grid(axis='x')\n",
    "ax2.set_ylim([-50,2000])\n",
    "\n"
   ]
  },
  {
   "cell_type": "markdown",
   "id": "c533c1bd-a99a-463a-9521-352a892c5cf1",
   "metadata": {},
   "source": [
    "En la figura podemos ver que uno de los miembros del ensamble muestra un acumulado mucho más alto que cualquiera de los otros miembros.\n",
    "\n",
    "En base a estos miembros vamos a calcular la proporcion en cada semana que se supere algún umbral de acumulado.\n",
    "Vamos a utilizar 1mm y también 30mm como para tener dos estimaciones de probabilidad.\n",
    "\n",
    "Antes tambien vamos a hacer la misma extraccion de datos, pero para los datos **SIN** correccion en la misma fecha:"
   ]
  },
  {
   "cell_type": "code",
   "execution_count": null,
   "id": "a8f18870-2987-477c-86fb-1c078d2222d6",
   "metadata": {},
   "outputs": [],
   "source": [
    "BUCKET_NAME = 'sissa-forecast-database'\n",
    "tforecast = 'subseasonal'\n",
    "modelo = 'GEFSv12'\n",
    "variable = 'rain'\n",
    "\n",
    "PATH = tforecast + '/' + modelo + '/' + variable + '/' + year + '/' + ymd + '/'\n",
    "\n",
    "print(PATH)\n",
    "\n",
    "fs = s3fs.S3FileSystem(anon=True)\n",
    "# Listamos todos los archivos dentro del bucket + PATH\n",
    "awsfiles = fs.ls('s3://' + BUCKET_NAME + '/' + PATH)\n",
    "nfile = len(awsfiles)\n",
    "list_df = []\n",
    "for i, awsfile in enumerate(awsfiles):\n",
    "    print('Extrayendo datos del archivo:')\n",
    "    print(awsfile)\n",
    "    with fs.open(awsfile) as f:\n",
    "        gefs = xr.open_dataset(f)\n",
    "        # seleccionamos el mas cercano\n",
    "        df0 = gefs.sel(lat=lat_e, lon=lon_e, method='nearest')\n",
    "        # Eliminamos dimensiones con UN valor (squeeze) y transformamos a Pandas DataFrame\n",
    "        df = df0[variable].squeeze().to_pandas()\n",
    "        list_df.append(df)\n",
    "\n",
    "result_sincorr = pd.concat(list_df, axis=1)\n",
    "print(result_sincorr.head())  \n"
   ]
  },
  {
   "cell_type": "code",
   "execution_count": null,
   "id": "326fb2e4-5197-4b63-a78d-622ee24c55ec",
   "metadata": {},
   "outputs": [],
   "source": [
    "accpp_sincorr = result_sincorr.cumsum()\n",
    "accpp_sincorr.columns = ['c00', 'p01', 'p02', 'p03', 'p04', 'p05', 'p06', 'p07', 'p08', 'p09', 'p10']\n",
    "\n",
    "\n",
    "fig, ax1 = plt.subplots()\n",
    "\n",
    "accpp_sincorr.plot(ylabel='mm', ax=ax1)\n",
    "ax1.set_xticks(accpp_sincorr.index[0::7])\n",
    "ax1.grid(axis='x')\n",
    "ax1.set_ylim([-50,2000])"
   ]
  },
  {
   "cell_type": "markdown",
   "id": "77906041-8e5d-45fe-9d61-d64d601571c7",
   "metadata": {},
   "source": [
    "Ahora vamos a calcular la probabilidad en distintos umbrales.\n",
    "\n",
    "Creamos una lista colocando el numero correspondiente a la semana para agrupar."
   ]
  },
  {
   "cell_type": "code",
   "execution_count": null,
   "id": "0253fd53-7dc3-4e1a-85dc-5136f68da990",
   "metadata": {},
   "outputs": [],
   "source": [
    "lsemana = np.arange(0, len(accpp))\n",
    "lsemana[0:7] = 1\n",
    "lsemana[7:14] = 2\n",
    "lsemana[14:21] = 3\n",
    "lsemana[21:] = 4\n",
    "# La ultima semana la consideramos con todos los datos que quedan posterior a la tercera semana (21 a 34 de plazo de pronostico)\n",
    "# Agregamos la nueva columna\n",
    "accpp = accpp.assign(i_semana = lsemana)\n",
    "accpp_sincorr = accpp_sincorr.assign(i_semana = lsemana)\n",
    "# Agrupamos por semana y sumamos ( ie calculamos el acumulado semanal de cada miembro del ensamble)\n",
    "acc_sem = accpp.groupby(by='i_semana').sum()\n",
    "acc_sem_sincorr = accpp_sincorr.groupby(by='i_semana').sum()\n",
    "\n",
    "# Umbral de 150mm para acumulado semanal (evento severo)\n",
    "umbral = 150.\n",
    "\n",
    "print(acc_sem[acc_sem > umbral].count(axis=1)/11)\n",
    "print(acc_sem_sincorr[acc_sem_sincorr > umbral].count(axis=1)/11)"
   ]
  },
  {
   "cell_type": "code",
   "execution_count": null,
   "id": "b41fc05b-b511-4b4a-a0de-ee2001dafdac",
   "metadata": {},
   "outputs": [],
   "source": [
    "print(accpp)"
   ]
  },
  {
   "cell_type": "code",
   "execution_count": null,
   "id": "fa8ef72c-1143-44e6-8f39-60a216a828c8",
   "metadata": {},
   "outputs": [],
   "source": []
  }
 ],
 "metadata": {
  "kernelspec": {
   "display_name": "Python 3 (ipykernel)",
   "language": "python",
   "name": "python3"
  },
  "language_info": {
   "codemirror_mode": {
    "name": "ipython",
    "version": 3
   },
   "file_extension": ".py",
   "mimetype": "text/x-python",
   "name": "python",
   "nbconvert_exporter": "python",
   "pygments_lexer": "ipython3",
   "version": "3.11.6"
  }
 },
 "nbformat": 4,
 "nbformat_minor": 5
}
